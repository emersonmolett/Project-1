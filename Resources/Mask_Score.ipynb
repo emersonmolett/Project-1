{
 "cells": [
  {
   "cell_type": "code",
   "execution_count": null,
   "metadata": {},
   "outputs": [],
   "source": [
    "import pandas as pd\n",
    "import matplotlib.pyplot as plt\n",
    "import numpy as np\n",
    "import requests\n",
    "import time\n",
    "from scipy.stats import linregress\n",
    "import json\n",
    "import scipy.stats as st\n",
    "import statistics"
   ]
  },
  {
   "cell_type": "code",
   "execution_count": null,
   "metadata": {
    "scrolled": true
   },
   "outputs": [],
   "source": [
    "# read in mask use by country csv file\n",
    "\n",
    "file_to_load = \"Resources/mask-use-by-county-exp.csv\"\n",
    "mask_counties = pd.read_csv(\"mask-use-by-county-exp.csv\")\n",
    "mask_counties"
   ]
  },
  {
   "cell_type": "code",
   "execution_count": null,
   "metadata": {
    "scrolled": true
   },
   "outputs": [],
   "source": [
    "# total number of counties \n",
    "total_counties = mask_counties[\"COUNTYFP\"].nunique()\n",
    "total_counties_df = pd.DataFrame([total_counties], columns = [\"Total Counties\"])\n",
    "total_counties_df"
   ]
  },
  {
   "cell_type": "code",
   "execution_count": null,
   "metadata": {},
   "outputs": [],
   "source": [
    "# Average Never- Mask \n",
    "# never_mask = mask_counties[\"NEVER\"].apply(percentages_to_floats).mean()\n",
    "# never_mask\n"
   ]
  },
  {
   "cell_type": "code",
   "execution_count": null,
   "metadata": {},
   "outputs": [],
   "source": [
    "def percentages_to_floats(percentage):\n",
    "    string = percentage[0:-1]\n",
    "    return float(string) "
   ]
  },
  {
   "cell_type": "code",
   "execution_count": null,
   "metadata": {},
   "outputs": [],
   "source": [
    "# Average Never - Mask \n",
    "\n",
    "mask_counties[\"NEVER\"].apply(percentages_to_floats).mean()\n"
   ]
  },
  {
   "cell_type": "code",
   "execution_count": null,
   "metadata": {},
   "outputs": [],
   "source": [
    "# Average Rarely - Mask \n",
    "rarely_mask = mask_counties[\"RARELY\"].apply(percentages_to_floats).mean()\n",
    "print(rarely_mask)"
   ]
  },
  {
   "cell_type": "code",
   "execution_count": null,
   "metadata": {},
   "outputs": [],
   "source": [
    "# Average Sometimes - Mask \n",
    "sometimes_mask = mask_counties[\"SOMETIMES\"].apply(percentages_to_floats).mean()\n",
    "sometimes_mask "
   ]
  },
  {
   "cell_type": "code",
   "execution_count": null,
   "metadata": {},
   "outputs": [],
   "source": [
    "# Average Frequently - Mask \n",
    "frequently_mask = mask_counties[\"FREQUENTLY\"].apply(percentages_to_floats).mean()\n",
    "frequently_mask"
   ]
  },
  {
   "cell_type": "code",
   "execution_count": null,
   "metadata": {},
   "outputs": [],
   "source": [
    "# Average Always - Mask \n",
    "always_mask = mask_counties[\"ALWAYS\"].apply(percentages_to_floats).mean()\n",
    "always_mask"
   ]
  },
  {
   "cell_type": "code",
   "execution_count": null,
   "metadata": {},
   "outputs": [],
   "source": [
    "# Determined Mask Score by combining/adding the Frequently & Always cols for a county \n",
    "\n",
    "mask_counties[\"Mask Score\"] = mask_counties[\"FREQUENTLY\"].apply(percentages_to_floats) + mask_counties[\"ALWAYS\"].apply(percentages_to_floats)\n",
    "mask_counties"
   ]
  },
  {
   "cell_type": "code",
   "execution_count": null,
   "metadata": {},
   "outputs": [],
   "source": [
    "# Descriptive \n",
    "\n",
    "mask_counties[\"Mask Score\"].describe()"
   ]
  },
  {
   "cell_type": "code",
   "execution_count": null,
   "metadata": {},
   "outputs": [],
   "source": [
    "# read in us-counties-csv in order to tick & tie the fips to the state names, and then start connecting to the mask score\n",
    "counties = pd.read_csv(\"us-counties.csv\").dropna()\n",
    "counties[\"fips\"]=counties[\"fips\"].apply(int)\n",
    "counties = counties[[\"state\", \"fips\"]]\n",
    "counties = counties.rename({\n",
    "    \"fips\": \"COUNTYFP\"\n",
    "},axis=1)\n",
    "counties"
   ]
  },
  {
   "cell_type": "code",
   "execution_count": null,
   "metadata": {},
   "outputs": [],
   "source": []
  },
  {
   "cell_type": "code",
   "execution_count": null,
   "metadata": {},
   "outputs": [],
   "source": [
    "# merged dataframes in order to get Mask Score to aling with state \n",
    "\n",
    "merged_df = mask_counties.merge(counties)\n",
    "merged_df"
   ]
  },
  {
   "cell_type": "code",
   "execution_count": null,
   "metadata": {},
   "outputs": [],
   "source": [
    "x_values = merged_df[\"state\"]\n",
    "y_values = merged_df[\"Mask Score\"]"
   ]
  },
  {
   "cell_type": "code",
   "execution_count": null,
   "metadata": {},
   "outputs": [],
   "source": [
    "# plt.bar(x_values, y_values)\n",
    "# plt.xticks(rotation=90)\n",
    "# plt.show()"
   ]
  },
  {
   "cell_type": "code",
   "execution_count": null,
   "metadata": {},
   "outputs": [],
   "source": [
    "# created bar chart to demonstrate visual of mask score \n",
    "fig, ax = plt.subplots(figsize=(20,8))\n",
    "ax.bar(x_values, y_values)\n",
    "plt.xticks(rotation=90)\n",
    "plt.xticks(fontsize=25)\n",
    "ax.set_title(\"Mask Score\", fontsize=30)\n"
   ]
  }
 ],
 "metadata": {
  "kernelspec": {
   "display_name": "Python 3",
   "language": "python",
   "name": "python3"
  },
  "language_info": {
   "codemirror_mode": {
    "name": "ipython",
    "version": 3
   },
   "file_extension": ".py",
   "mimetype": "text/x-python",
   "name": "python",
   "nbconvert_exporter": "python",
   "pygments_lexer": "ipython3",
   "version": "3.6.10"
  }
 },
 "nbformat": 4,
 "nbformat_minor": 4
}
