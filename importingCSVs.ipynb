{
 "cells": [
  {
   "cell_type": "code",
   "execution_count": 1,
   "metadata": {},
   "outputs": [],
   "source": [
    "# dependancies\n",
    "# possibly more than needed\n",
    "import os\n",
    "from pathlib import Path\n",
    "import pandas as pd\n",
    "import numpy as np\n",
    "import matplotlib.pyplot as plt\n",
    "import scipy.stats as st\n",
    "from scipy.stats import linregress\n",
    "import chardet"
   ]
  },
  {
   "cell_type": "code",
   "execution_count": 2,
   "metadata": {},
   "outputs": [],
   "source": [
    "# Make list of column/headers for Great Big Dataframe (GBDf) with empty cells - Paul\n",
    "\n",
    "# FIPS\n",
    "# (five-digit code: the first two represent state, the last three represent county in that state)\n",
    "\n",
    "# County\n",
    "# (name, e.g. Jackson County in many states, but also Orleans Parish of Louisiana, or the Aleutians East Borough of Alaska)\n",
    "\n",
    "# State (name)\n",
    "\n",
    "# Pop\n",
    "# (2019 county population estimate)\n",
    "\n",
    "# PopDens\n",
    "# (Population density; derived from county 2019 population estimate divided by county land mass in another dataframe)\n",
    "\n",
    "# MskScore\n",
    "# (Mask-wearing score derived from pct in each county who said never, rarely sometimes, frequently, always wear a mask when going out)\n",
    "\n",
    "# CaseRate\n",
    "# (cumulative COVID cases per 100,000 population by county January 21–July 14, 2020)\n",
    "\n",
    "# DeathRate\n",
    "# (cumulative COVID deaths per 100,000 population by county January 21–July 14, 2020)\n",
    "\n",
    "# Income\n",
    "# (Mean per-capita income by county; this is a bonus-round question)"
   ]
  },
  {
   "cell_type": "code",
   "execution_count": 8,
   "metadata": {},
   "outputs": [
    {
     "ename": "SyntaxError",
     "evalue": "invalid syntax (<ipython-input-8-442dd07c66bb>, line 4)",
     "output_type": "error",
     "traceback": [
      "\u001b[0;36m  File \u001b[0;32m\"<ipython-input-8-442dd07c66bb>\"\u001b[0;36m, line \u001b[0;32m4\u001b[0m\n\u001b[0;31m    placeholderData = \"FIPS\":\"01001\", \"County\":\"Autauga\", \"State\":\"Alabama\", \"Pop\":55869, \"PopDens\":94.0, \"MskScore\":7.51, \"CaseRate\":1335, \"DeathRate\":32, \"Income\":\"\"\u001b[0m\n\u001b[0m                            ^\u001b[0m\n\u001b[0;31mSyntaxError\u001b[0m\u001b[0;31m:\u001b[0m invalid syntax\n"
     ]
    }
   ],
   "source": [
    "columnNames = [\"FIPS\", \"County\", \"State\", \"Pop\", \"PopDens\", \"MskScore\", \"CaseRate\", \"DeathRate\", \"Income\"]\n",
    "GBDf = pd.DataFrame(columns = columnNames)\n",
    "# placeholderData = [\"01001\", \"Autauga\", \"Alabama\", \"55869\", \"94.0\", \"7.51\", \"0\", \"1335\", \"32\"]\n",
    "placeholderData = \"FIPS\":\"01001\", \"County\":\"Autauga\", \"State\":\"Alabama\", \"Pop\":55869, \"PopDens\":94.0, \"MskScore\":7.51, \"CaseRate\":1335, \"DeathRate\":32, \"Income\":\"\"\n",
    "GBDf = GBDf.append(placeholderData, ignore_index=True)\n",
    "GBDf"
   ]
  },
  {
   "cell_type": "code",
   "execution_count": 4,
   "metadata": {},
   "outputs": [],
   "source": [
    "# Aleena's code starts here"
   ]
  },
  {
   "cell_type": "code",
   "execution_count": 5,
   "metadata": {},
   "outputs": [
    {
     "name": "stdout",
     "output_type": "stream",
     "text": [
      "Resources/co-est2019-alldata_exp.csv is 0.15 megabytes (MB).\n",
      "More info here:\n",
      "https://www.census.gov/data/tables/time-series/demo/popest/2010s-counties-total.html\n"
     ]
    }
   ],
   "source": [
    "# 1. US Census 2010-2019\n",
    "censusDataReadMeURL = \"https://www.census.gov/data/tables/time-series/demo/popest/2010s-counties-total.html\"\n",
    "\n",
    "# This is where the census data .CSV lives locally...:\n",
    "censusDataFilepath = \"Resources/co-est2019-alldata_exp.csv\"\n",
    "\n",
    "print(f\"{censusDataFilepath} is {round(os.path.getsize(censusDataFilepath)/1024/1024, 2)} megabytes (MB).\\nMore info here:\\n{censusDataReadMeURL}\")"
   ]
  },
  {
   "cell_type": "code",
   "execution_count": 6,
   "metadata": {},
   "outputs": [
    {
     "data": {
      "text/html": [
       "<div>\n",
       "<style scoped>\n",
       "    .dataframe tbody tr th:only-of-type {\n",
       "        vertical-align: middle;\n",
       "    }\n",
       "\n",
       "    .dataframe tbody tr th {\n",
       "        vertical-align: top;\n",
       "    }\n",
       "\n",
       "    .dataframe thead th {\n",
       "        text-align: right;\n",
       "    }\n",
       "</style>\n",
       "<table border=\"1\" class=\"dataframe\">\n",
       "  <thead>\n",
       "    <tr style=\"text-align: right;\">\n",
       "      <th></th>\n",
       "      <th>FIPS</th>\n",
       "      <th>STATE</th>\n",
       "      <th>COUNTY</th>\n",
       "      <th>STNAME</th>\n",
       "      <th>CTYNAME</th>\n",
       "      <th>CENSUS2010POP</th>\n",
       "      <th>POPESTIMATE2019</th>\n",
       "    </tr>\n",
       "  </thead>\n",
       "  <tbody>\n",
       "    <tr>\n",
       "      <th>0</th>\n",
       "      <td>1001</td>\n",
       "      <td>1</td>\n",
       "      <td>1</td>\n",
       "      <td>Alabama</td>\n",
       "      <td>Autauga County</td>\n",
       "      <td>54571</td>\n",
       "      <td>55869</td>\n",
       "    </tr>\n",
       "    <tr>\n",
       "      <th>1</th>\n",
       "      <td>1003</td>\n",
       "      <td>1</td>\n",
       "      <td>3</td>\n",
       "      <td>Alabama</td>\n",
       "      <td>Baldwin County</td>\n",
       "      <td>182265</td>\n",
       "      <td>223234</td>\n",
       "    </tr>\n",
       "    <tr>\n",
       "      <th>2</th>\n",
       "      <td>1005</td>\n",
       "      <td>1</td>\n",
       "      <td>5</td>\n",
       "      <td>Alabama</td>\n",
       "      <td>Barbour County</td>\n",
       "      <td>27457</td>\n",
       "      <td>24686</td>\n",
       "    </tr>\n",
       "    <tr>\n",
       "      <th>3</th>\n",
       "      <td>1007</td>\n",
       "      <td>1</td>\n",
       "      <td>7</td>\n",
       "      <td>Alabama</td>\n",
       "      <td>Bibb County</td>\n",
       "      <td>22915</td>\n",
       "      <td>22394</td>\n",
       "    </tr>\n",
       "    <tr>\n",
       "      <th>4</th>\n",
       "      <td>1009</td>\n",
       "      <td>1</td>\n",
       "      <td>9</td>\n",
       "      <td>Alabama</td>\n",
       "      <td>Blount County</td>\n",
       "      <td>57322</td>\n",
       "      <td>57826</td>\n",
       "    </tr>\n",
       "    <tr>\n",
       "      <th>...</th>\n",
       "      <td>...</td>\n",
       "      <td>...</td>\n",
       "      <td>...</td>\n",
       "      <td>...</td>\n",
       "      <td>...</td>\n",
       "      <td>...</td>\n",
       "      <td>...</td>\n",
       "    </tr>\n",
       "    <tr>\n",
       "      <th>3137</th>\n",
       "      <td>56037</td>\n",
       "      <td>56</td>\n",
       "      <td>37</td>\n",
       "      <td>Wyoming</td>\n",
       "      <td>Sweetwater County</td>\n",
       "      <td>43806</td>\n",
       "      <td>42343</td>\n",
       "    </tr>\n",
       "    <tr>\n",
       "      <th>3138</th>\n",
       "      <td>56039</td>\n",
       "      <td>56</td>\n",
       "      <td>39</td>\n",
       "      <td>Wyoming</td>\n",
       "      <td>Teton County</td>\n",
       "      <td>21294</td>\n",
       "      <td>23464</td>\n",
       "    </tr>\n",
       "    <tr>\n",
       "      <th>3139</th>\n",
       "      <td>56041</td>\n",
       "      <td>56</td>\n",
       "      <td>41</td>\n",
       "      <td>Wyoming</td>\n",
       "      <td>Uinta County</td>\n",
       "      <td>21118</td>\n",
       "      <td>20226</td>\n",
       "    </tr>\n",
       "    <tr>\n",
       "      <th>3140</th>\n",
       "      <td>56043</td>\n",
       "      <td>56</td>\n",
       "      <td>43</td>\n",
       "      <td>Wyoming</td>\n",
       "      <td>Washakie County</td>\n",
       "      <td>8533</td>\n",
       "      <td>7805</td>\n",
       "    </tr>\n",
       "    <tr>\n",
       "      <th>3141</th>\n",
       "      <td>56045</td>\n",
       "      <td>56</td>\n",
       "      <td>45</td>\n",
       "      <td>Wyoming</td>\n",
       "      <td>Weston County</td>\n",
       "      <td>7208</td>\n",
       "      <td>6927</td>\n",
       "    </tr>\n",
       "  </tbody>\n",
       "</table>\n",
       "<p>3142 rows × 7 columns</p>\n",
       "</div>"
      ],
      "text/plain": [
       "       FIPS  STATE  COUNTY   STNAME            CTYNAME  CENSUS2010POP  \\\n",
       "0      1001      1       1  Alabama     Autauga County          54571   \n",
       "1      1003      1       3  Alabama     Baldwin County         182265   \n",
       "2      1005      1       5  Alabama     Barbour County          27457   \n",
       "3      1007      1       7  Alabama        Bibb County          22915   \n",
       "4      1009      1       9  Alabama      Blount County          57322   \n",
       "...     ...    ...     ...      ...                ...            ...   \n",
       "3137  56037     56      37  Wyoming  Sweetwater County          43806   \n",
       "3138  56039     56      39  Wyoming       Teton County          21294   \n",
       "3139  56041     56      41  Wyoming       Uinta County          21118   \n",
       "3140  56043     56      43  Wyoming    Washakie County           8533   \n",
       "3141  56045     56      45  Wyoming      Weston County           7208   \n",
       "\n",
       "      POPESTIMATE2019  \n",
       "0               55869  \n",
       "1              223234  \n",
       "2               24686  \n",
       "3               22394  \n",
       "4               57826  \n",
       "...               ...  \n",
       "3137            42343  \n",
       "3138            23464  \n",
       "3139            20226  \n",
       "3140             7805  \n",
       "3141             6927  \n",
       "\n",
       "[3142 rows x 7 columns]"
      ]
     },
     "execution_count": 6,
     "metadata": {},
     "output_type": "execute_result"
    }
   ],
   "source": [
    "censusData = pd.read_csv(censusDataFilepath, encoding=\"iso-8859-1\")\n",
    "censusData"
   ]
  },
  {
   "cell_type": "code",
   "execution_count": 7,
   "metadata": {},
   "outputs": [
    {
     "data": {
      "text/plain": [
       "FIPS                int64\n",
       "STATE               int64\n",
       "COUNTY              int64\n",
       "STNAME             object\n",
       "CTYNAME            object\n",
       "CENSUS2010POP       int64\n",
       "POPESTIMATE2019     int64\n",
       "dtype: object"
      ]
     },
     "execution_count": 7,
     "metadata": {},
     "output_type": "execute_result"
    }
   ],
   "source": [
    "censusData.dtypes"
   ]
  },
  {
   "cell_type": "code",
   "execution_count": 8,
   "metadata": {},
   "outputs": [],
   "source": [
    "# censusData.dtypes"
   ]
  },
  {
   "cell_type": "code",
   "execution_count": null,
   "metadata": {},
   "outputs": [],
   "source": [
    "# Aleena's code ends here for now"
   ]
  },
  {
   "cell_type": "code",
   "execution_count": 9,
   "metadata": {},
   "outputs": [],
   "source": [
    "# Matt's code starts here"
   ]
  },
  {
   "cell_type": "code",
   "execution_count": 10,
   "metadata": {},
   "outputs": [
    {
     "name": "stdout",
     "output_type": "stream",
     "text": [
      "The file at Resources/us-counties.csv is 0.12 MB.\n",
      "More info here:\n",
      "https://github.com/nytimes/covid-19-data/blob/master/README.md\n"
     ]
    }
   ],
   "source": [
    "# 2. COVID-19 cases\n",
    "caseDataReadMeURL = \"https://github.com/nytimes/covid-19-data/blob/master/README.md\"\n",
    "\n",
    "# This is where the .CSV lives locally...:\n",
    "caseDataFilepath = \"Resources/us-counties.csv\"\n",
    "\n",
    "print(f\"The file at {caseDataFilepath} is {round(os.path.getsize(caseDataFilepath)/1024/1024, 2)} MB.\\nMore info here:\\n{caseDataReadMeURL}\")"
   ]
  },
  {
   "cell_type": "code",
   "execution_count": 11,
   "metadata": {},
   "outputs": [
    {
     "data": {
      "text/html": [
       "<div>\n",
       "<style scoped>\n",
       "    .dataframe tbody tr th:only-of-type {\n",
       "        vertical-align: middle;\n",
       "    }\n",
       "\n",
       "    .dataframe tbody tr th {\n",
       "        vertical-align: top;\n",
       "    }\n",
       "\n",
       "    .dataframe thead th {\n",
       "        text-align: right;\n",
       "    }\n",
       "</style>\n",
       "<table border=\"1\" class=\"dataframe\">\n",
       "  <thead>\n",
       "    <tr style=\"text-align: right;\">\n",
       "      <th></th>\n",
       "      <th>date</th>\n",
       "      <th>county</th>\n",
       "      <th>state</th>\n",
       "      <th>fips</th>\n",
       "      <th>cases</th>\n",
       "      <th>deaths</th>\n",
       "    </tr>\n",
       "  </thead>\n",
       "  <tbody>\n",
       "    <tr>\n",
       "      <th>0</th>\n",
       "      <td>7/14/2020</td>\n",
       "      <td>Autauga</td>\n",
       "      <td>Alabama</td>\n",
       "      <td>1001.0</td>\n",
       "      <td>746</td>\n",
       "      <td>18</td>\n",
       "    </tr>\n",
       "    <tr>\n",
       "      <th>1</th>\n",
       "      <td>7/14/2020</td>\n",
       "      <td>Baldwin</td>\n",
       "      <td>Alabama</td>\n",
       "      <td>1003.0</td>\n",
       "      <td>1414</td>\n",
       "      <td>12</td>\n",
       "    </tr>\n",
       "    <tr>\n",
       "      <th>2</th>\n",
       "      <td>7/14/2020</td>\n",
       "      <td>Barbour</td>\n",
       "      <td>Alabama</td>\n",
       "      <td>1005.0</td>\n",
       "      <td>428</td>\n",
       "      <td>3</td>\n",
       "    </tr>\n",
       "    <tr>\n",
       "      <th>3</th>\n",
       "      <td>7/14/2020</td>\n",
       "      <td>Bibb</td>\n",
       "      <td>Alabama</td>\n",
       "      <td>1007.0</td>\n",
       "      <td>236</td>\n",
       "      <td>2</td>\n",
       "    </tr>\n",
       "    <tr>\n",
       "      <th>4</th>\n",
       "      <td>7/14/2020</td>\n",
       "      <td>Blount</td>\n",
       "      <td>Alabama</td>\n",
       "      <td>1009.0</td>\n",
       "      <td>366</td>\n",
       "      <td>1</td>\n",
       "    </tr>\n",
       "    <tr>\n",
       "      <th>...</th>\n",
       "      <td>...</td>\n",
       "      <td>...</td>\n",
       "      <td>...</td>\n",
       "      <td>...</td>\n",
       "      <td>...</td>\n",
       "      <td>...</td>\n",
       "    </tr>\n",
       "    <tr>\n",
       "      <th>3155</th>\n",
       "      <td>7/14/2020</td>\n",
       "      <td>Unknown</td>\n",
       "      <td>North Dakota</td>\n",
       "      <td>NaN</td>\n",
       "      <td>4</td>\n",
       "      <td>4</td>\n",
       "    </tr>\n",
       "    <tr>\n",
       "      <th>3156</th>\n",
       "      <td>7/14/2020</td>\n",
       "      <td>Unknown</td>\n",
       "      <td>Rhode Island</td>\n",
       "      <td>NaN</td>\n",
       "      <td>2085</td>\n",
       "      <td>30</td>\n",
       "    </tr>\n",
       "    <tr>\n",
       "      <th>3157</th>\n",
       "      <td>7/14/2020</td>\n",
       "      <td>Unknown</td>\n",
       "      <td>Utah</td>\n",
       "      <td>NaN</td>\n",
       "      <td>0</td>\n",
       "      <td>9</td>\n",
       "    </tr>\n",
       "    <tr>\n",
       "      <th>3158</th>\n",
       "      <td>7/14/2020</td>\n",
       "      <td>Unknown</td>\n",
       "      <td>Vermont</td>\n",
       "      <td>NaN</td>\n",
       "      <td>5</td>\n",
       "      <td>0</td>\n",
       "    </tr>\n",
       "    <tr>\n",
       "      <th>3159</th>\n",
       "      <td>7/14/2020</td>\n",
       "      <td>Unknown</td>\n",
       "      <td>Wisconsin</td>\n",
       "      <td>NaN</td>\n",
       "      <td>2972</td>\n",
       "      <td>7</td>\n",
       "    </tr>\n",
       "  </tbody>\n",
       "</table>\n",
       "<p>3160 rows × 6 columns</p>\n",
       "</div>"
      ],
      "text/plain": [
       "           date   county         state    fips  cases  deaths\n",
       "0     7/14/2020  Autauga       Alabama  1001.0    746      18\n",
       "1     7/14/2020  Baldwin       Alabama  1003.0   1414      12\n",
       "2     7/14/2020  Barbour       Alabama  1005.0    428       3\n",
       "3     7/14/2020     Bibb       Alabama  1007.0    236       2\n",
       "4     7/14/2020   Blount       Alabama  1009.0    366       1\n",
       "...         ...      ...           ...     ...    ...     ...\n",
       "3155  7/14/2020  Unknown  North Dakota     NaN      4       4\n",
       "3156  7/14/2020  Unknown  Rhode Island     NaN   2085      30\n",
       "3157  7/14/2020  Unknown          Utah     NaN      0       9\n",
       "3158  7/14/2020  Unknown       Vermont     NaN      5       0\n",
       "3159  7/14/2020  Unknown     Wisconsin     NaN   2972       7\n",
       "\n",
       "[3160 rows x 6 columns]"
      ]
     },
     "execution_count": 11,
     "metadata": {},
     "output_type": "execute_result"
    }
   ],
   "source": [
    "caseData = pd.read_csv(caseDataFilepath, encoding = \"UTF-8\")\n",
    "caseData"
   ]
  },
  {
   "cell_type": "code",
   "execution_count": 12,
   "metadata": {},
   "outputs": [
    {
     "data": {
      "text/plain": [
       "date       object\n",
       "county     object\n",
       "state      object\n",
       "fips      float64\n",
       "cases       int64\n",
       "deaths      int64\n",
       "dtype: object"
      ]
     },
     "execution_count": 12,
     "metadata": {},
     "output_type": "execute_result"
    }
   ],
   "source": [
    "caseData.dtypes"
   ]
  },
  {
   "cell_type": "code",
   "execution_count": 13,
   "metadata": {},
   "outputs": [],
   "source": [
    "# caseData.dtypes"
   ]
  },
  {
   "cell_type": "code",
   "execution_count": null,
   "metadata": {},
   "outputs": [],
   "source": [
    "# Drop rows containing NaN values\n",
    "caseData.dropna(axis = 0, how = \"any\", thresh = None, subset = None, inplace = True)\n",
    "caseData"
   ]
  },
  {
   "cell_type": "code",
   "execution_count": null,
   "metadata": {},
   "outputs": [],
   "source": [
    "# Convert FIPS values from float64 to int64\n",
    "caseData.fips = caseData.fips.astype(np.int64)\n",
    "caseData.dtypes"
   ]
  },
  {
   "cell_type": "code",
   "execution_count": null,
   "metadata": {},
   "outputs": [],
   "source": [
    "caseData"
   ]
  },
  {
   "cell_type": "code",
   "execution_count": 14,
   "metadata": {},
   "outputs": [],
   "source": [
    "# Merge caseData with censusData DataFrame\n",
    "merged_caseData = pd.merge(censusData, caseData, how = \"outer\", left_on = \"FIPS\", right_on = \"fips\", on=None, sort=False, copy=True, indicator=False, validate=None)\n",
    "merged_caseData"
   ]
  },
  {
   "cell_type": "code",
   "execution_count": 15,
   "metadata": {},
   "outputs": [
    {
     "name": "stdout",
     "output_type": "stream",
     "text": [
      "Resources/mask-use-by-county-exp.csv is 0.12 MB.\n",
      "More info here:\n",
      "https://github.com/nytimes/covid-19-data/blob/master/README.md\n"
     ]
    }
   ],
   "source": [
    "# Drop duplicate/irrelevant columns\n",
    "merged_caseData.drop(columns=[\"FIPS\", \"STATE\", \"COUNTY\", \"STNAME\", \"CTYNAME\", \"CENSUS2010POP\"], inplace = True)\n",
    "merged_caseData"
   ]
  },
  {
   "cell_type": "code",
   "execution_count": 16,
   "metadata": {},
   "outputs": [
    {
     "data": {
      "text/html": [
       "<div>\n",
       "<style scoped>\n",
       "    .dataframe tbody tr th:only-of-type {\n",
       "        vertical-align: middle;\n",
       "    }\n",
       "\n",
       "    .dataframe tbody tr th {\n",
       "        vertical-align: top;\n",
       "    }\n",
       "\n",
       "    .dataframe thead th {\n",
       "        text-align: right;\n",
       "    }\n",
       "</style>\n",
       "<table border=\"1\" class=\"dataframe\">\n",
       "  <thead>\n",
       "    <tr style=\"text-align: right;\">\n",
       "      <th></th>\n",
       "      <th>COUNTYFP</th>\n",
       "      <th>NEVER</th>\n",
       "      <th>RARELY</th>\n",
       "      <th>SOMETIMES</th>\n",
       "      <th>FREQUENTLY</th>\n",
       "      <th>ALWAYS</th>\n",
       "    </tr>\n",
       "  </thead>\n",
       "  <tbody>\n",
       "    <tr>\n",
       "      <th>0</th>\n",
       "      <td>1001</td>\n",
       "      <td>5.30%</td>\n",
       "      <td>7.40%</td>\n",
       "      <td>13.40%</td>\n",
       "      <td>29.50%</td>\n",
       "      <td>44.40%</td>\n",
       "    </tr>\n",
       "    <tr>\n",
       "      <th>1</th>\n",
       "      <td>1003</td>\n",
       "      <td>8.30%</td>\n",
       "      <td>5.90%</td>\n",
       "      <td>9.80%</td>\n",
       "      <td>32.30%</td>\n",
       "      <td>43.60%</td>\n",
       "    </tr>\n",
       "    <tr>\n",
       "      <th>2</th>\n",
       "      <td>1005</td>\n",
       "      <td>6.70%</td>\n",
       "      <td>12.10%</td>\n",
       "      <td>12.00%</td>\n",
       "      <td>20.10%</td>\n",
       "      <td>49.10%</td>\n",
       "    </tr>\n",
       "    <tr>\n",
       "      <th>3</th>\n",
       "      <td>1007</td>\n",
       "      <td>2.00%</td>\n",
       "      <td>3.40%</td>\n",
       "      <td>9.60%</td>\n",
       "      <td>27.80%</td>\n",
       "      <td>57.20%</td>\n",
       "    </tr>\n",
       "    <tr>\n",
       "      <th>4</th>\n",
       "      <td>1009</td>\n",
       "      <td>5.30%</td>\n",
       "      <td>11.40%</td>\n",
       "      <td>18.00%</td>\n",
       "      <td>19.40%</td>\n",
       "      <td>45.90%</td>\n",
       "    </tr>\n",
       "    <tr>\n",
       "      <th>...</th>\n",
       "      <td>...</td>\n",
       "      <td>...</td>\n",
       "      <td>...</td>\n",
       "      <td>...</td>\n",
       "      <td>...</td>\n",
       "      <td>...</td>\n",
       "    </tr>\n",
       "    <tr>\n",
       "      <th>3137</th>\n",
       "      <td>56037</td>\n",
       "      <td>6.10%</td>\n",
       "      <td>29.50%</td>\n",
       "      <td>23.00%</td>\n",
       "      <td>14.60%</td>\n",
       "      <td>26.80%</td>\n",
       "    </tr>\n",
       "    <tr>\n",
       "      <th>3138</th>\n",
       "      <td>56039</td>\n",
       "      <td>9.50%</td>\n",
       "      <td>15.70%</td>\n",
       "      <td>16.00%</td>\n",
       "      <td>24.70%</td>\n",
       "      <td>34.00%</td>\n",
       "    </tr>\n",
       "    <tr>\n",
       "      <th>3139</th>\n",
       "      <td>56041</td>\n",
       "      <td>9.80%</td>\n",
       "      <td>27.80%</td>\n",
       "      <td>15.40%</td>\n",
       "      <td>20.70%</td>\n",
       "      <td>26.40%</td>\n",
       "    </tr>\n",
       "    <tr>\n",
       "      <th>3140</th>\n",
       "      <td>56043</td>\n",
       "      <td>20.40%</td>\n",
       "      <td>15.50%</td>\n",
       "      <td>6.90%</td>\n",
       "      <td>28.50%</td>\n",
       "      <td>28.70%</td>\n",
       "    </tr>\n",
       "    <tr>\n",
       "      <th>3141</th>\n",
       "      <td>56045</td>\n",
       "      <td>14.20%</td>\n",
       "      <td>12.90%</td>\n",
       "      <td>14.80%</td>\n",
       "      <td>20.70%</td>\n",
       "      <td>37.40%</td>\n",
       "    </tr>\n",
       "  </tbody>\n",
       "</table>\n",
       "<p>3142 rows × 6 columns</p>\n",
       "</div>"
      ],
      "text/plain": [
       "      COUNTYFP   NEVER  RARELY SOMETIMES FREQUENTLY  ALWAYS\n",
       "0         1001   5.30%   7.40%    13.40%     29.50%  44.40%\n",
       "1         1003   8.30%   5.90%     9.80%     32.30%  43.60%\n",
       "2         1005   6.70%  12.10%    12.00%     20.10%  49.10%\n",
       "3         1007   2.00%   3.40%     9.60%     27.80%  57.20%\n",
       "4         1009   5.30%  11.40%    18.00%     19.40%  45.90%\n",
       "...        ...     ...     ...       ...        ...     ...\n",
       "3137     56037   6.10%  29.50%    23.00%     14.60%  26.80%\n",
       "3138     56039   9.50%  15.70%    16.00%     24.70%  34.00%\n",
       "3139     56041   9.80%  27.80%    15.40%     20.70%  26.40%\n",
       "3140     56043  20.40%  15.50%     6.90%     28.50%  28.70%\n",
       "3141     56045  14.20%  12.90%    14.80%     20.70%  37.40%\n",
       "\n",
       "[3142 rows x 6 columns]"
      ]
     },
     "execution_count": 16,
     "metadata": {},
     "output_type": "execute_result"
    }
   ],
   "source": [
    "# Edit row 3142 (New York City aggregate) population value\n",
    "merged_caseData[\"POPESTIMATE2019\"].fillna(8336817, inplace=True)\n",
    "merged_caseData"
   ]
  },
  {
   "cell_type": "code",
   "execution_count": 17,
   "metadata": {},
   "outputs": [
    {
     "data": {
      "text/plain": [
       "COUNTYFP       int64\n",
       "NEVER         object\n",
       "RARELY        object\n",
       "SOMETIMES     object\n",
       "FREQUENTLY    object\n",
       "ALWAYS        object\n",
       "dtype: object"
      ]
     },
     "execution_count": 17,
     "metadata": {},
     "output_type": "execute_result"
    }
   ],
   "source": [
    "maskWearingData.dtypes"
   ]
  },
  {
   "cell_type": "code",
   "execution_count": 18,
   "metadata": {},
   "outputs": [
    {
     "name": "stdout",
     "output_type": "stream",
     "text": [
      "This will use the results of the NYT survey to score each county on a scale from 0 to 10 where\n",
      "never = 0\n",
      "rarely = 2.5\n",
      "sometimes = 5.0\n",
      "frequently = 7.5\n",
      "always = 10.0\n"
     ]
    }
   ],
   "source": [
    "# merged_caseData.dtypes"
   ]
  },
  {
   "cell_type": "code",
   "execution_count": null,
   "metadata": {},
   "outputs": [],
   "source": [
    "# Rearrange columns\n",
    "organized_caseData = merged_caseData[[\"date\", \"fips\", \"county\", \"state\", \"POPESTIMATE2019\", \"cases\", \"deaths\"]]\n",
    "organized_caseData"
   ]
  },
  {
   "cell_type": "code",
   "execution_count": 19,
   "metadata": {},
   "outputs": [],
   "source": [
    "# Rename columns\n",
    "renamed_caseData = merged_caseData.rename(columns={\"date\":\"Date\", \"fips\":\"FIPS\", \"county\":\"County\", \"state\":\"State\",\n",
    "                                                   \"POPESTIMATE2019\":\"PopEst\", \"cases\":\"Cases\", \"deaths\":\"Deaths\"})\n",
    "renamed_caseData"
   ]
  },
  {
   "cell_type": "code",
   "execution_count": 20,
   "metadata": {},
   "outputs": [],
   "source": [
    "# Rearrange columns\n",
    "reorganized_caseData = renamed_caseData[[\"Date\", \"FIPS\", \"County\", \"State\", \"PopEst\", \"Cases\", \"Deaths\"]]\n",
    "reorganized_caseData"
   ]
  },
  {
   "cell_type": "code",
   "execution_count": 21,
   "metadata": {},
   "outputs": [],
   "source": [
    "# reorganized_caseData.dtypes"
   ]
  },
  {
   "cell_type": "code",
   "execution_count": 22,
   "metadata": {},
   "outputs": [],
   "source": [
    "# Due diligence to check dataset for rows without data\n",
    "reorganized_caseData.count()"
   ]
  },
  {
   "cell_type": "code",
   "execution_count": null,
   "metadata": {},
   "outputs": [],
   "source": [
    "# Drop rows containing no data\n",
    "complete_caseData = reorganized_caseData.dropna(axis=0, how='any', thresh=None, subset=None, inplace=False)\n",
    "complete_caseData"
   ]
  },
  {
   "cell_type": "code",
   "execution_count": null,
   "metadata": {},
   "outputs": [],
   "source": [
    "# Drop (4) boroughs of New York (New York County (Manhattan) dropped out on previous cell) by index number so their\n",
    "# population data is not counted twice (INDEX NUMBERS ARE CORRECT)\n",
    "final_caseData = complete_caseData.drop([complete_caseData.index[1828], complete_caseData.index[1849],\n",
    "                                         complete_caseData.index[1865], complete_caseData.index[1867]])\n",
    "final_caseData"
   ]
  },
  {
   "cell_type": "code",
   "execution_count": 23,
   "metadata": {},
   "outputs": [
    {
     "name": "stdout",
     "output_type": "stream",
     "text": [
      "Resources/counties-by-land-area.csv is 0.12 MB.\n",
      "More info here:\n",
      "\n"
     ]
    }
   ],
   "source": [
    "# Export to CSV to verify all (5) boroughs have been dropped\n",
    "# final_caseData.to_csv(\"reorganized_caseData.csv\", index = False, header = False)\n",
    "# final_caseData.dtypes"
   ]
  },
  {
   "cell_type": "code",
   "execution_count": null,
   "metadata": {},
   "outputs": [],
   "source": [
    "# Convert values from float64 to int64\n",
    "# final_caseData.FIPS = final_caseData.FIPS.astype(np.int64)\n",
    "# final_caseData.PopEst = final_caseData.PopEst.astype(np.int64)\n",
    "# final_caseData.Cases = final_caseData.Cases.astype(np.int64)\n",
    "# final_caseData.Deaths = final_caseData.Deaths.astype(np.int64)\n",
    "\n",
    "# final_caseData.dtypes"
   ]
  },
  {
   "cell_type": "code",
   "execution_count": null,
   "metadata": {},
   "outputs": [],
   "source": [
    "# 3. Landmass (and thence population density)\n",
    "landMassDataReadMeURL = \"https://hub.arcgis.com/datasets/48f9af87daa241c4b267c5931ad3b226_0/data?orderBy=FIPS\"\n",
    "# This is where the land mass data .CSV lives locally...:\n",
    "landMassDataFilepath = \"Resources/counties-by-land-area.csv\"\n",
    "\n",
    "print(f\"{landMassDataFilepath} is {round(os.path.getsize(landMassDataFilepath)/1024/1024, 2)} MB.\\nMore info here:\\n{landMassDataReadMeURL}\")"
   ]
  },
  {
   "cell_type": "code",
   "execution_count": 24,
   "metadata": {},
   "outputs": [
    {
     "data": {
      "text/html": [
       "<div>\n",
       "<style scoped>\n",
       "    .dataframe tbody tr th:only-of-type {\n",
       "        vertical-align: middle;\n",
       "    }\n",
       "\n",
       "    .dataframe tbody tr th {\n",
       "        vertical-align: top;\n",
       "    }\n",
       "\n",
       "    .dataframe thead th {\n",
       "        text-align: right;\n",
       "    }\n",
       "</style>\n",
       "<table border=\"1\" class=\"dataframe\">\n",
       "  <thead>\n",
       "    <tr style=\"text-align: right;\">\n",
       "      <th></th>\n",
       "      <th>FIPS</th>\n",
       "      <th>NAME</th>\n",
       "      <th>STATE_NAME</th>\n",
       "      <th>POPULATION</th>\n",
       "      <th>POP_SQMI</th>\n",
       "      <th>POP2010</th>\n",
       "    </tr>\n",
       "  </thead>\n",
       "  <tbody>\n",
       "    <tr>\n",
       "      <th>0</th>\n",
       "      <td>1001</td>\n",
       "      <td>Autauga</td>\n",
       "      <td>Alabama</td>\n",
       "      <td>56319</td>\n",
       "      <td>93.2</td>\n",
       "      <td>54571</td>\n",
       "    </tr>\n",
       "    <tr>\n",
       "      <th>1</th>\n",
       "      <td>1003</td>\n",
       "      <td>Baldwin</td>\n",
       "      <td>Alabama</td>\n",
       "      <td>209227</td>\n",
       "      <td>127.6</td>\n",
       "      <td>182265</td>\n",
       "    </tr>\n",
       "    <tr>\n",
       "      <th>2</th>\n",
       "      <td>1005</td>\n",
       "      <td>Barbour</td>\n",
       "      <td>Alabama</td>\n",
       "      <td>27072</td>\n",
       "      <td>29.9</td>\n",
       "      <td>27457</td>\n",
       "    </tr>\n",
       "    <tr>\n",
       "      <th>3</th>\n",
       "      <td>1007</td>\n",
       "      <td>Bibb</td>\n",
       "      <td>Alabama</td>\n",
       "      <td>22932</td>\n",
       "      <td>36.6</td>\n",
       "      <td>22915</td>\n",
       "    </tr>\n",
       "    <tr>\n",
       "      <th>4</th>\n",
       "      <td>1009</td>\n",
       "      <td>Blount</td>\n",
       "      <td>Alabama</td>\n",
       "      <td>57596</td>\n",
       "      <td>88.5</td>\n",
       "      <td>57322</td>\n",
       "    </tr>\n",
       "    <tr>\n",
       "      <th>...</th>\n",
       "      <td>...</td>\n",
       "      <td>...</td>\n",
       "      <td>...</td>\n",
       "      <td>...</td>\n",
       "      <td>...</td>\n",
       "      <td>...</td>\n",
       "    </tr>\n",
       "    <tr>\n",
       "      <th>3215</th>\n",
       "      <td>72145</td>\n",
       "      <td>Vega Baja</td>\n",
       "      <td>Puerto Rico</td>\n",
       "      <td>-99</td>\n",
       "      <td>-99.0</td>\n",
       "      <td>-99</td>\n",
       "    </tr>\n",
       "    <tr>\n",
       "      <th>3216</th>\n",
       "      <td>72147</td>\n",
       "      <td>Vieques</td>\n",
       "      <td>Puerto Rico</td>\n",
       "      <td>-99</td>\n",
       "      <td>-99.0</td>\n",
       "      <td>-99</td>\n",
       "    </tr>\n",
       "    <tr>\n",
       "      <th>3217</th>\n",
       "      <td>72149</td>\n",
       "      <td>Villalba</td>\n",
       "      <td>Puerto Rico</td>\n",
       "      <td>-99</td>\n",
       "      <td>-99.0</td>\n",
       "      <td>-99</td>\n",
       "    </tr>\n",
       "    <tr>\n",
       "      <th>3218</th>\n",
       "      <td>72151</td>\n",
       "      <td>Yabucoa</td>\n",
       "      <td>Puerto Rico</td>\n",
       "      <td>-99</td>\n",
       "      <td>-99.0</td>\n",
       "      <td>-99</td>\n",
       "    </tr>\n",
       "    <tr>\n",
       "      <th>3219</th>\n",
       "      <td>72153</td>\n",
       "      <td>Yauco</td>\n",
       "      <td>Puerto Rico</td>\n",
       "      <td>-99</td>\n",
       "      <td>-99.0</td>\n",
       "      <td>-99</td>\n",
       "    </tr>\n",
       "  </tbody>\n",
       "</table>\n",
       "<p>3220 rows × 6 columns</p>\n",
       "</div>"
      ],
      "text/plain": [
       "       FIPS       NAME   STATE_NAME  POPULATION  POP_SQMI  POP2010\n",
       "0      1001    Autauga      Alabama       56319      93.2    54571\n",
       "1      1003    Baldwin      Alabama      209227     127.6   182265\n",
       "2      1005    Barbour      Alabama       27072      29.9    27457\n",
       "3      1007       Bibb      Alabama       22932      36.6    22915\n",
       "4      1009     Blount      Alabama       57596      88.5    57322\n",
       "...     ...        ...          ...         ...       ...      ...\n",
       "3215  72145  Vega Baja  Puerto Rico         -99     -99.0      -99\n",
       "3216  72147    Vieques  Puerto Rico         -99     -99.0      -99\n",
       "3217  72149   Villalba  Puerto Rico         -99     -99.0      -99\n",
       "3218  72151    Yabucoa  Puerto Rico         -99     -99.0      -99\n",
       "3219  72153      Yauco  Puerto Rico         -99     -99.0      -99\n",
       "\n",
       "[3220 rows x 6 columns]"
      ]
     },
     "execution_count": 24,
     "metadata": {},
     "output_type": "execute_result"
    }
   ],
   "source": [
    "# Study land mass data file\n",
    "# csv_data = landMassDataFilepath\n",
    "landmassData = pd.read_csv(landMassDataFilepath)"
   ]
  },
  {
   "cell_type": "code",
   "execution_count": null,
   "metadata": {},
   "outputs": [],
   "source": [
    "landmassData"
   ]
  },
  {
   "cell_type": "code",
   "execution_count": null,
   "metadata": {},
   "outputs": [],
   "source": [
    "# landmassData.dtypes"
   ]
  },
  {
   "cell_type": "code",
   "execution_count": null,
   "metadata": {},
   "outputs": [],
   "source": [
    "# Drop rows containing Puerto Rico data (INDEX NUMBERS ARE CORRECT)\n",
    "landmassData.drop(landmassData.index[3142:3220], inplace = True)\n",
    "landmassData"
   ]
  },
  {
   "cell_type": "code",
   "execution_count": null,
   "metadata": {},
   "outputs": [],
   "source": [
    "# landmassData.dtypes"
   ]
  },
  {
   "cell_type": "code",
   "execution_count": null,
   "metadata": {},
   "outputs": [],
   "source": [
    "# Convert population/sq mi values from float64 to int64\n",
    "# landmassData.POP_SQMI = landmassData.POP_SQMI.astype(np.int64)\n",
    "# landmassData.dtypes"
   ]
  },
  {
   "cell_type": "code",
   "execution_count": null,
   "metadata": {},
   "outputs": [],
   "source": [
    "# Merge final_caseData DataFrame and landmassData DataFrame\n",
    "final_merged_caseData = pd.merge(final_caseData, landmassData, how = \"left\", left_on = \"FIPS\", right_on = \"FIPS\", on = None, sort = False, copy = True, indicator = False, validate = None)\n",
    "final_merged_caseData"
   ]
  },
  {
   "cell_type": "code",
   "execution_count": 25,
   "metadata": {},
   "outputs": [
    {
     "data": {
      "text/plain": [
       "FIPS            int64\n",
       "NAME           object\n",
       "STATE_NAME     object\n",
       "POPULATION      int64\n",
       "POP_SQMI      float64\n",
       "POP2010         int64\n",
       "dtype: object"
      ]
     },
     "execution_count": 25,
     "metadata": {},
     "output_type": "execute_result"
    }
   ],
   "source": [
    "landMassData.dtypes"
   ]
  },
  {
   "cell_type": "code",
   "execution_count": null,
   "metadata": {},
   "outputs": [],
   "source": [
    "# final_merged_caseData.dtypes"
   ]
  },
  {
   "cell_type": "code",
   "execution_count": null,
   "metadata": {},
   "outputs": [],
   "source": [
    "final_merged_caseData.count()"
   ]
  },
  {
   "cell_type": "code",
   "execution_count": null,
   "metadata": {},
   "outputs": [],

   "source": [
    "# final_merged_caseData.columns"
   ]
  },
  {
   "cell_type": "code",
   "execution_count": null,
   "metadata": {},
   "outputs": [],
   "source": [
    "# Drop irrelevant columns and rename\n",
    "final_merged_caseData.drop(columns = [\"NAME\", \"STATE_NAME\", \"POPULATION\", \"POP2010\", \"POP_SQMI\", \"WHITE\",\n",
    "                                      \"BLACK\", \"AMERI_ES\", \"ASIAN\", \"HAWN_PI\", \"HISPANIC\", \"OTHER\", \"MULT_RACE\",\n",
    "                                      \"MALES\", \"FEMALES\", \"AGE_UNDER5\", \"AGE_5_9\", \"AGE_10_14\", \"AGE_15_19\",\n",
    "                                      \"AGE_20_24\", \"AGE_25_34\", \"AGE_35_44\", \"AGE_45_54\", \"AGE_55_64\",\n",
    "                                      \"AGE_65_74\", \"AGE_75_84\", \"AGE_85_UP\", \"MED_AGE\", \"MED_AGE_M\",\n",
    "                                      \"MED_AGE_F\", \"HOUSEHOLDS\", \"AVE_HH_SZ\", \"HSEHLD_1_M\", \"HSEHLD_1_F\",\n",
    "                                      \"MARHH_CHD\", \"MARHH_NO_C\", \"MHH_CHILD\", \"FHH_CHILD\", \"FAMILIES\",\n",
    "                                      \"AVE_FAM_SZ\", \"HSE_UNITS\", \"VACANT\", \"OWNER_OCC\", \"RENTER_OCC\",\n",
    "                                      \"NO_FARMS12\", \"AVE_SIZE12\", \"CROP_ACR12\", \"AVE_SALE12\",\n",
    "                                      \"Shape_Leng\", \"SHAPE_Length\", \"SHAPE_Area\", \"FID\",\n",
    "                                      \"OBJECTID\", \"STATE_FIPS\", \"CNTY_FIPS\", \"POP10_SQMI\"], inplace = True)\n",
    "# final_merged_caseData = final_merged_caseData.rename(columns = {\"POP_SQMI\":\"PopPerSqMi\"})\n",
    "\n",
    "\n",
    "final_merged_caseData"
   ]
  },
  {
   "cell_type": "code",
   "execution_count": null,
   "metadata": {},
   "outputs": [],
   "source": [
    "final_merged_caseData.dtypes"
   ]
  },
  {
   "cell_type": "code",
   "execution_count": null,
   "metadata": {},
   "outputs": [],
   "source": [
    "# Calculate per 100,000 factor\n",
    "perHundredK_factor = final_merged_caseData[\"PopEst\"] / 100000\n",
    "# perHundredK_factor\n",
    "\n",
    "# Calculate cases per 100,000\n",
    "casesPerHundredK = final_merged_caseData[\"Cases\"] / perHundredK_factor\n",
    "# casesPerHundredK\n",
    "\n",
    "# Calculate deaths per 100,000\n",
    "deathsPerHundredK = final_merged_caseData[\"Deaths\"] / perHundredK_factor\n",
    "# deathsPerHundredK\n",
    "\n",
    "# Calculate population density\n",
    "popDens = final_merged_caseData[\"PopEst\"] / final_merged_caseData[\"SQMI\"]"
   ]
  },
  {
   "cell_type": "code",
   "execution_count": null,
   "metadata": {},
   "outputs": [],
   "source": [
    "# Add new columns to hold case rates and death rates per 100,000, and population density\n",
    "final_merged_caseData[\"CaseRate\"] = casesPerHundredK\n",
    "final_merged_caseData[\"DeathRate\"] = deathsPerHundredK\n",
    "final_merged_caseData[\"PopDens\"] = popDens\n",
    "final_merged_caseData"
   ]
  },
  {
   "cell_type": "code",
   "execution_count": null,
   "metadata": {},
   "outputs": [],
   "source": [
    "# Reorganize columns\n",
    "reorganized_final_merged_caseData = final_merged_caseData[[\"Date\", \"FIPS\", \"County\", \"State\", \"SQMI\", \"PopEst\", \"PopDens\",\n",
    "                                                           \"Cases\", \"CaseRate\", \"Deaths\", \"DeathRate\"]]\n",
    "reorganized_final_merged_caseData"
   ]
  },
  {
   "cell_type": "code",
   "execution_count": null,
   "metadata": {},
   "outputs": [],
   "source": [
    "# Export to CSV for verification\n",
    "# reorganized_final_merged_caseData.to_csv(\"reorganized_final_merged_caseData.csv\", index = False, header = False)"
   ]
  },
  {
   "cell_type": "code",
   "execution_count": null,
   "metadata": {},
   "outputs": [],
   "source": [
    "# reorganized_final_merged_caseData.dtypes"
   ]
  },
  {
   "cell_type": "code",
   "execution_count": null,
   "metadata": {},
   "outputs": [],
   "source": [
    "# Edit row 3142 (New York City aggregate) values\n",
    "reorganized_final_merged_caseData[\"SQMI\"].fillna(302.06, inplace=True)\n",
    "reorganized_final_merged_caseData[\"PopDens\"].fillna(27599.87, inplace=True)\n",
    "reorganized_final_merged_caseData"
   ]
  },
  {
   "cell_type": "code",
   "execution_count": null,
   "metadata": {},
   "outputs": [],
   "source": [
    "reorganized_final_merged_caseData.count()"
   ]
  },
  {
   "cell_type": "code",
   "execution_count": null,
   "metadata": {},
   "outputs": [],
   "source": [
    "# Convert FIPS and Population values from float64 to int64\n",
    "reorganized_final_merged_caseData.FIPS = reorganized_final_merged_caseData.FIPS.astype(np.int64)\n",
    "reorganized_final_merged_caseData.PopEst = reorganized_final_merged_caseData.PopEst.astype(np.int64)\n",
    "# reorganized_final_merged_caseData.CaseRate = reorganized_final_merged_caseData.CaseRate.astype(np.int64)\n",
    "# reorganized_final_merged_caseData.DeathRate = reorganized_final_merged_caseData.DeathRate.astype(np.int64)\n",
    "reorganized_final_merged_caseData.dtypes"
   ]
  },
  {
   "cell_type": "code",
   "execution_count": null,
   "metadata": {},
   "outputs": [],
   "source": [
    "# Format values for cleaner look\n",
    "# reorganized_final_merged_caseData[\"PopEst\"] = reorganized_final_merged_caseData[\"PopEst\"].map(\"{:,}\".format)\n",
    "# reorganized_final_merged_caseData[\"PopPerSqMi\"] = reorganized_final_merged_caseData[\"PopPerSqMi\"].map(\"{:,.2f}\".format)\n",
    "# reorganized_final_merged_caseData[\"Cases\"] = reorganized_final_merged_caseData[\"Cases\"].map(\"{:,}\".format)\n",
    "# reorganized_final_merged_caseData[\"CaseRate\"] = reorganized_final_merged_caseData[\"CaseRate\"].map(\"{:,.2f}\".format)\n",
    "# reorganized_final_merged_caseData[\"Deaths\"] = reorganized_final_merged_caseData[\"Deaths\"].map(\"{:,}\".format)\n",
    "# reorganized_final_merged_caseData[\"DeathRate\"] = reorganized_final_merged_caseData[\"DeathRate\"].map(\"{:,.2f}\".format)\n",
    "\n",
    "# reorganized_final_merged_caseData"
   ]
  },
  {
   "cell_type": "code",
   "execution_count": null,
   "metadata": {},
   "outputs": [],
=======

   "source": []
  },
  {
   "cell_type": "code",
   "execution_count": null,
   "metadata": {},
   "outputs": [],
   "source": [

    "# Matt's code ends here for now"
   ]
  },
  {
   "cell_type": "code",
   "execution_count": null,
   "metadata": {},
   "outputs": [],
   "source": [
    "# Emerson's code starts here"
   ]
  },
  {
   "cell_type": "code",
   "execution_count": null,
   "metadata": {},
   "outputs": [],
   "source": [
    "# 4. mask-wearing survey\n",
    "maskWearingDataReadMeURL = \"https://github.com/nytimes/covid-19-data/blob/master/README.md\"\n",
    "# This is where the census data .CSV lives locally...:\n",
    "maskWearingDataFilepath = \"Resources/mask-use-by-county-exp.csv\"\n",
    "\n",
    "print(f\"{maskWearingDataFilepath} is {round(os.path.getsize(maskWearingDataFilepath)/1024/1024, 2)} MB.\\nMore info here:\\n{maskWearingDataReadMeURL}\")"
   ]
  },
  {
   "cell_type": "code",
   "execution_count": null,
   "metadata": {},
   "outputs": [],
   "source": [
    "maskWearingData = pd.read_csv(maskWearingDataFilepath)\n",
    "maskWearingData"
   ]
  },
  {
   "cell_type": "code",
   "execution_count": null,
   "metadata": {},
   "outputs": [],
   "source": [
    "maskWearingData.dtypes"
   ]
  },
  {
   "cell_type": "code",
   "execution_count": null,
   "metadata": {},
   "outputs": [],
   "source": [
    "scale = 10\n",
    "divisions = 5\n",
    "interval = scale / (divisions-1)\n",
    "print(f\"This will use the results of the NYT survey to score each county on a scale from 0 to {scale} where\")\n",
    "print(f\"never = 0\")\n",
    "print(f\"rarely = {interval}\")\n",
    "print(f\"sometimes = {interval*2}\")\n",
    "print(f\"frequently = {interval*3}\")\n",
    "print(f\"always = {interval*4}\")"
   ]
  },
  {
   "cell_type": "code",
   "execution_count": null,
   "metadata": {},
   "outputs": [],
   "source": [
    "# Each county can be represented by a mask-wearing score.\n",
    "# maskWearingData.insert(1, \"Mask Wearing Score\", 0)\n",
    "# maskWearingData\n",
    "\n",
    "# maskWearingData[\"Mask Wearing Score\"] = maskWearingData[\"RARELY\"] * interval + maskWearingData[\"RARELY\"] * interval * 2 +  maskWearingData[\"SOMETIMES\"] * interval * 3 + maskWearingData[\"FREQUENTLY\"] * interval * 4  + maskWearingData[\"ALWAYS\"] * interval * 5"
   ]
  },
  {
   "cell_type": "code",
   "execution_count": null,
   "metadata": {},
   "outputs": [],
   "source": [
    "# maskWearingScore = rarely*interval + sometimes*interval*2 + frequently*interval*3 + always*interval*4"
   ]
  },
  {
   "cell_type": "code",
   "execution_count": null,
   "metadata": {},
   "outputs": [],
   "source": [
    "# Emerson's code ends here for now"
   ]
  },
  {
   "cell_type": "code",
   "execution_count": null,
   "metadata": {},
   "outputs": [],
   "source": [
    "# Paul's code starts here"
   ]
  },
  {
   "cell_type": "code",
   "execution_count": null,
   "metadata": {},
   "outputs": [],
   "source": []
=======
    "# Paul's code ends here"
   ]

  }
 ],
 "metadata": {
  "kernelspec": {
   "display_name": "Python 3",
   "language": "python",
   "name": "python3"
  },
  "language_info": {
   "codemirror_mode": {
    "name": "ipython",
    "version": 3
   },
   "file_extension": ".py",
   "mimetype": "text/x-python",
   "name": "python",
   "nbconvert_exporter": "python",
   "pygments_lexer": "ipython3",
   "version": "3.6.10"
  }
 },
 "nbformat": 4,
 "nbformat_minor": 4
}
