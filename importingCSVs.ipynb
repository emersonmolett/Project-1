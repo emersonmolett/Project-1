{
 "cells": [
  {
   "cell_type": "code",
   "execution_count": null,
   "metadata": {},
   "outputs": [],
   "source": [
    "# dependancies\n",
    "# possibly more than needed\n",
    "import os\n",
    "from pathlib import Path\n",
    "import pandas as pd\n",
    "import numpy as np\n",
    "import matplotlib.pyplot as plt\n",
    "import scipy.stats as st\n",
    "from scipy.stats import linregress\n",
    "import chardet"
   ]
  },
  {
   "cell_type": "code",
   "execution_count": null,
   "metadata": {},
   "outputs": [],
   "source": [
    "# Make list of column/headers for Great Big Dataframe (GBDf) with empty cells - Paul\n",
    "\n",
    "# FIPS\n",
    "# (five-digit code: the first two represent state, the last three represent county in that state)\n",
    "\n",
    "# County\n",
    "# (name, e.g. Jackson County in many states, but also Orleans Parish of Louisiana, or the Aleutians East Borough of Alaska)\n",
    "\n",
    "# State (name)\n",
    "\n",
    "# Pop\n",
    "# (2019 county population estimate)\n",
    "\n",
    "# PopDens\n",
    "# (Population density; derived from county 2019 population estimate divided by county land mass in another dataframe)\n",
    "\n",
    "# MskScore\n",
    "# (Mask-wearing score derived from pct in each county who said never, rarely sometimes, frequently, always wear a mask when going out)\n",
    "\n",
    "# CaseRate\n",
    "# (cumulative COVID cases per 100,000 population by county January 21–July 14, 2020)\n",
    "\n",
    "# DeathRate\n",
    "# (cumulative COVID deaths per 100,000 population by county January 21–July 14, 2020)\n",
    "\n",
    "# Income\n",
    "# (Mean per-capita income by county; this is a bonus-round question)"
   ]
  },
  {
   "cell_type": "code",
   "execution_count": null,
   "metadata": {},
   "outputs": [],
   "source": [
    "columnNames = [\"FIPS\", \"County\", \"State\", \"Pop\", \"PopDens\", \"MskScore\", \"CaseRate\", \"DeathRate\", \"Income\"]\n",
    "GBDf = pd.DataFrame(columns = columnNames)\n",
    "# placeholderData = [\"01001\", \"Autauga\", \"Alabama\", \"55869\", \"94.0\", \"7.51\", \"0\", \"1335\", \"32\"]\n",
    "placeholderData = {\"FIPS\":\"01001\", \"County\":\"Autauga\", \"State\":\"Alabama\", \"Pop\":55869, \"PopDens\":94.0, \"MskScore\":7.51, \"CaseRate\":1335, \"DeathRate\":32, \"Income\":0}\n",
    "GBDf = GBDf.append(placeholderData, ignore_index=True)\n",
    "GBDf"
   ]
  },
  {
   "cell_type": "code",
   "execution_count": null,
   "metadata": {},
   "outputs": [],
   "source": [
    "# Aleena's code starts here"
   ]
  },
  {
   "cell_type": "code",
   "execution_count": null,
   "metadata": {},
   "outputs": [],
   "source": [
    "# 1. US Census 2010-2019\n",
    "censusDataReadMeURL = \"https://www.census.gov/data/tables/time-series/demo/popest/2010s-counties-total.html\"\n",
    "\n",
    "# This is where the census data .CSV lives locally...:\n",
    "censusDataFilepath = \"Resources/co-est2019-alldata_exp.csv\"\n",
    "\n",
    "print(f\"{censusDataFilepath} is {round(os.path.getsize(censusDataFilepath)/1024/1024, 2)} megabytes (MB).\\nMore info here:\\n{censusDataReadMeURL}\")"
   ]
  },
  {
   "cell_type": "code",
   "execution_count": null,
   "metadata": {},
   "outputs": [],
   "source": [
    "censusData = pd.read_csv(censusDataFilepath, encoding=\"iso-8859-1\")\n",
    "censusData"
   ]
  },
  {
   "cell_type": "code",
   "execution_count": null,
   "metadata": {},
   "outputs": [],
   "source": [
    "# censusData.dtypes"
   ]
  },
  {
   "cell_type": "code",
   "execution_count": null,
   "metadata": {},
   "outputs": [],
   "source": [
    "# Aleena's code ends here for now"
   ]
  },
  {
   "cell_type": "code",
   "execution_count": null,
   "metadata": {},
   "outputs": [],
   "source": [
    "# Matt's code starts here"
   ]
  },
  {
   "cell_type": "code",
   "execution_count": null,
   "metadata": {},
   "outputs": [],
   "source": [
    "# 2. COVID-19 cases\n",
    "caseDataReadMeURL = \"https://github.com/nytimes/covid-19-data/blob/master/README.md\"\n",
    "\n",
    "# This is where the .CSV lives locally...:\n",
    "caseDataFilepath = \"Resources/us-counties.csv\"\n",
    "\n",
    "print(f\"The file at {caseDataFilepath} is {round(os.path.getsize(caseDataFilepath)/1024/1024, 2)} MB.\\nMore info here:\\n{caseDataReadMeURL}\")"
   ]
  },
  {
   "cell_type": "code",
   "execution_count": null,
   "metadata": {},
   "outputs": [],
   "source": [
    "caseData = pd.read_csv(caseDataFilepath, encoding = \"UTF-8\")\n",
    "caseData"
   ]
  },
  {
   "cell_type": "code",
   "execution_count": null,
   "metadata": {},
   "outputs": [],
   "source": [
    "# caseData.dtypes"
   ]
  },
  {
   "cell_type": "code",
   "execution_count": null,
   "metadata": {},
   "outputs": [],
   "source": [
    "# Drop rows containing NaN values\n",
    "caseData.dropna(axis = 0, how = \"any\", thresh = None, subset = None, inplace = True)\n",
    "caseData"
   ]
  },
  {
   "cell_type": "code",
   "execution_count": null,
   "metadata": {},
   "outputs": [],
   "source": [
    "# Convert FIPS values from float64 to int64\n",
    "caseData.fips = caseData.fips.astype(np.int64)\n",
    "caseData.dtypes"
   ]
  },
  {
   "cell_type": "code",
   "execution_count": null,
   "metadata": {},
   "outputs": [],
   "source": [
    "caseData"
   ]
  },
  {
   "cell_type": "code",
   "execution_count": null,
   "metadata": {},
   "outputs": [],
   "source": [
    "# Merge caseData with censusData DataFrame\n",
    "merged_caseData = pd.merge(censusData, caseData, how = \"outer\", left_on = \"FIPS\", right_on = \"fips\", on=None, sort=False, copy=True, indicator=False, validate=None)\n",
    "merged_caseData"
   ]
  },
  {
   "cell_type": "code",
   "execution_count": null,
   "metadata": {},
   "outputs": [],
   "source": [
    "# Drop duplicate/irrelevant columns\n",
    "merged_caseData.drop(columns=[\"FIPS\", \"STATE\", \"COUNTY\", \"STNAME\", \"CTYNAME\", \"CENSUS2010POP\"], inplace = True)\n",
    "merged_caseData"
   ]
  },
  {
   "cell_type": "code",
   "execution_count": null,
   "metadata": {},
   "outputs": [],
   "source": [
    "# Edit row 3142 (New York City aggregate) population value\n",
    "merged_caseData[\"POPESTIMATE2019\"].fillna(8336817, inplace=True)\n",
    "merged_caseData"
   ]
  },
  {
   "cell_type": "code",
   "execution_count": null,
   "metadata": {},
   "outputs": [],
   "source": [
    "# merged_caseData.dtypes"
   ]
  },
  {
   "cell_type": "code",
   "execution_count": null,
   "metadata": {},
   "outputs": [],
   "source": [
    "# Rearrange columns\n",
    "organized_caseData = merged_caseData[[\"date\", \"fips\", \"county\", \"state\", \"POPESTIMATE2019\", \"cases\", \"deaths\"]]\n",
    "organized_caseData"
   ]
  },
  {
   "cell_type": "code",
   "execution_count": null,
   "metadata": {},
   "outputs": [],
   "source": [
    "# Rename columns\n",
    "renamed_caseData = merged_caseData.rename(columns={\"date\":\"Date\", \"fips\":\"FIPS\", \"county\":\"County\", \"state\":\"State\",\n",
    "                                                   \"POPESTIMATE2019\":\"PopEst\", \"cases\":\"Cases\", \"deaths\":\"Deaths\"})\n",
    "renamed_caseData"
   ]
  },
  {
   "cell_type": "code",
   "execution_count": null,
   "metadata": {},
   "outputs": [],
   "source": [
    "# Rearrange columns\n",
    "reorganized_caseData = renamed_caseData[[\"Date\", \"FIPS\", \"County\", \"State\", \"PopEst\", \"Cases\", \"Deaths\"]]\n",
    "reorganized_caseData"
   ]
  },
  {
   "cell_type": "code",
   "execution_count": null,
   "metadata": {},
   "outputs": [],
   "source": [
    "# reorganized_caseData.dtypes"
   ]
  },
  {
   "cell_type": "code",
   "execution_count": null,
   "metadata": {},
   "outputs": [],
   "source": [
    "# Due diligence to check dataset for rows without data\n",
    "reorganized_caseData.count()"
   ]
  },
  {
   "cell_type": "code",
   "execution_count": null,
   "metadata": {},
   "outputs": [],
   "source": [
    "# Drop rows containing no data\n",
    "complete_caseData = reorganized_caseData.dropna(axis=0, how='any', thresh=None, subset=None, inplace=False)\n",
    "complete_caseData"
   ]
  },
  {
   "cell_type": "code",
   "execution_count": null,
   "metadata": {},
   "outputs": [],
   "source": [
    "# Drop (4) boroughs of New York (New York County (Manhattan) dropped out on previous cell) by index number so their\n",
    "# population data is not counted twice (INDEX NUMBERS ARE CORRECT)\n",
    "final_caseData = complete_caseData.drop([complete_caseData.index[1828], complete_caseData.index[1849],\n",
    "                                         complete_caseData.index[1865], complete_caseData.index[1867]])\n",
    "final_caseData"
   ]
  },
  {
   "cell_type": "code",
   "execution_count": null,
   "metadata": {},
   "outputs": [],
   "source": [
    "# Export to CSV to verify all (5) boroughs have been dropped\n",
    "# final_caseData.to_csv(\"reorganized_caseData.csv\", index = False, header = False)\n",
    "# final_caseData.dtypes"
   ]
  },
  {
   "cell_type": "code",
   "execution_count": null,
   "metadata": {},
   "outputs": [],
   "source": [
    "# Convert values from float64 to int64\n",
    "# final_caseData.FIPS = final_caseData.FIPS.astype(np.int64)\n",
    "# final_caseData.PopEst = final_caseData.PopEst.astype(np.int64)\n",
    "# final_caseData.Cases = final_caseData.Cases.astype(np.int64)\n",
    "# final_caseData.Deaths = final_caseData.Deaths.astype(np.int64)\n",
    "\n",
    "# final_caseData.dtypes"
   ]
  },
  {
   "cell_type": "code",
   "execution_count": null,
   "metadata": {},
   "outputs": [],
   "source": [
    "# 3. Landmass (and thence population density)\n",
    "landMassDataReadMeURL = \"https://hub.arcgis.com/datasets/48f9af87daa241c4b267c5931ad3b226_0/data?orderBy=FIPS\"\n",
    "# This is where the land mass data .CSV lives locally...:\n",
    "landMassDataFilepath = \"Resources/counties-by-land-area.csv\"\n",
    "\n",
    "print(f\"{landMassDataFilepath} is {round(os.path.getsize(landMassDataFilepath)/1024/1024, 2)} MB.\\nMore info here:\\n{landMassDataReadMeURL}\")"
   ]
  },
  {
   "cell_type": "code",
   "execution_count": null,
   "metadata": {},
   "outputs": [],
   "source": [
    "# Study land mass data file\n",
    "# csv_data = landMassDataFilepath\n",
    "landmassData = pd.read_csv(landMassDataFilepath)"
   ]
  },
  {
   "cell_type": "code",
   "execution_count": null,
   "metadata": {},
   "outputs": [],
   "source": [
    "landmassData"
   ]
  },
  {
   "cell_type": "code",
   "execution_count": null,
   "metadata": {},
   "outputs": [],
   "source": [
    "# landmassData.dtypes"
   ]
  },
  {
   "cell_type": "code",
   "execution_count": null,
   "metadata": {},
   "outputs": [],
   "source": [
    "# Drop rows containing Puerto Rico data (INDEX NUMBERS ARE CORRECT)\n",
    "landmassData.drop(landmassData.index[3142:3220], inplace = True)\n",
    "landmassData"
   ]
  },
  {
   "cell_type": "code",
   "execution_count": null,
   "metadata": {},
   "outputs": [],
   "source": [
    "# landmassData.dtypes"
   ]
  },
  {
   "cell_type": "code",
   "execution_count": null,
   "metadata": {},
   "outputs": [],
   "source": [
    "# Convert population/sq mi values from float64 to int64\n",
    "# landmassData.POP_SQMI = landmassData.POP_SQMI.astype(np.int64)\n",
    "# landmassData.dtypes"
   ]
  },
  {
   "cell_type": "code",
   "execution_count": null,
   "metadata": {},
   "outputs": [],
   "source": [
    "# Merge final_caseData DataFrame and landmassData DataFrame\n",
    "final_merged_caseData = pd.merge(final_caseData, landmassData, how = \"left\", left_on = \"FIPS\", right_on = \"FIPS\", on = None, sort = False, copy = True, indicator = False, validate = None)\n",
    "final_merged_caseData"
   ]
  },
  {
   "cell_type": "code",
   "execution_count": null,
   "metadata": {},
   "outputs": [],
   "source": [
    "# final_merged_caseData.dtypes"
   ]
  },
  {
   "cell_type": "code",
   "execution_count": null,
   "metadata": {},
   "outputs": [],
   "source": [
    "final_merged_caseData.count()"
   ]
  },
  {
   "cell_type": "code",
   "execution_count": null,
   "metadata": {},
   "outputs": [],
   "source": [
    "# final_merged_caseData.columns"
   ]
  },
  {
   "cell_type": "code",
   "execution_count": null,
   "metadata": {},
   "outputs": [],
   "source": [
    "# Drop irrelevant columns and rename\n",
    "final_merged_caseData.drop(columns = [\"NAME\", \"STATE_NAME\", \"POPULATION\", \"POP2010\", \"POP_SQMI\", \"WHITE\",\n",
    "                                      \"BLACK\", \"AMERI_ES\", \"ASIAN\", \"HAWN_PI\", \"HISPANIC\", \"OTHER\", \"MULT_RACE\",\n",
    "                                      \"MALES\", \"FEMALES\", \"AGE_UNDER5\", \"AGE_5_9\", \"AGE_10_14\", \"AGE_15_19\",\n",
    "                                      \"AGE_20_24\", \"AGE_25_34\", \"AGE_35_44\", \"AGE_45_54\", \"AGE_55_64\",\n",
    "                                      \"AGE_65_74\", \"AGE_75_84\", \"AGE_85_UP\", \"MED_AGE\", \"MED_AGE_M\",\n",
    "                                      \"MED_AGE_F\", \"HOUSEHOLDS\", \"AVE_HH_SZ\", \"HSEHLD_1_M\", \"HSEHLD_1_F\",\n",
    "                                      \"MARHH_CHD\", \"MARHH_NO_C\", \"MHH_CHILD\", \"FHH_CHILD\", \"FAMILIES\",\n",
    "                                      \"AVE_FAM_SZ\", \"HSE_UNITS\", \"VACANT\", \"OWNER_OCC\", \"RENTER_OCC\",\n",
    "                                      \"NO_FARMS12\", \"AVE_SIZE12\", \"CROP_ACR12\", \"AVE_SALE12\",\n",
    "                                      \"Shape_Leng\", \"SHAPE_Length\", \"SHAPE_Area\", \"FID\",\n",
    "                                      \"OBJECTID\", \"STATE_FIPS\", \"CNTY_FIPS\", \"POP10_SQMI\"], inplace = True)\n",
    "# final_merged_caseData = final_merged_caseData.rename(columns = {\"POP_SQMI\":\"PopPerSqMi\"})\n",
    "\n",
    "\n",
    "final_merged_caseData"
   ]
  },
  {
   "cell_type": "code",
   "execution_count": null,
   "metadata": {},
   "outputs": [],
   "source": [
    "final_merged_caseData.dtypes"
   ]
  },
  {
   "cell_type": "code",
   "execution_count": null,
   "metadata": {},
   "outputs": [],
   "source": [
    "# Calculate per 100,000 factor\n",
    "perHundredK_factor = final_merged_caseData[\"PopEst\"] / 100000\n",
    "# perHundredK_factor\n",
    "\n",
    "# Calculate cases per 100,000\n",
    "casesPerHundredK = final_merged_caseData[\"Cases\"] / perHundredK_factor\n",
    "# casesPerHundredK\n",
    "\n",
    "# Calculate deaths per 100,000\n",
    "deathsPerHundredK = final_merged_caseData[\"Deaths\"] / perHundredK_factor\n",
    "# deathsPerHundredK\n",
    "\n",
    "# Calculate population density\n",
    "popDens = final_merged_caseData[\"PopEst\"] / final_merged_caseData[\"SQMI\"]"
   ]
  },
  {
   "cell_type": "code",
   "execution_count": null,
   "metadata": {},
   "outputs": [],
   "source": [
    "# Add new columns to hold case rates and death rates per 100,000, and population density\n",
    "final_merged_caseData[\"CaseRate\"] = casesPerHundredK\n",
    "final_merged_caseData[\"DeathRate\"] = deathsPerHundredK\n",
    "final_merged_caseData[\"PopDens\"] = popDens\n",
    "final_merged_caseData"
   ]
  },
  {
   "cell_type": "code",
   "execution_count": null,
   "metadata": {},
   "outputs": [],
   "source": [
    "# Reorganize columns\n",
    "reorganized_final_merged_caseData = final_merged_caseData[[\"Date\", \"FIPS\", \"County\", \"State\", \"SQMI\", \"PopEst\", \"PopDens\",\n",
    "                                                           \"Cases\", \"CaseRate\", \"Deaths\", \"DeathRate\"]]\n",
    "reorganized_final_merged_caseData"
   ]
  },
  {
   "cell_type": "code",
   "execution_count": null,
   "metadata": {},
   "outputs": [],
   "source": [
    "# Export to CSV for verification\n",
    "# reorganized_final_merged_caseData.to_csv(\"reorganized_final_merged_caseData.csv\", index = False, header = False)"
   ]
  },
  {
   "cell_type": "code",
   "execution_count": null,
   "metadata": {},
   "outputs": [],
   "source": [
    "# reorganized_final_merged_caseData.dtypes"
   ]
  },
  {
   "cell_type": "code",
   "execution_count": null,
   "metadata": {},
   "outputs": [],
   "source": [
    "# Edit row 3142 (New York City aggregate) values\n",
    "reorganized_final_merged_caseData[\"SQMI\"].fillna(302.06, inplace=True)\n",
    "reorganized_final_merged_caseData[\"PopDens\"].fillna(27599.87, inplace=True)\n",
    "reorganized_final_merged_caseData"
   ]
  },
  {
   "cell_type": "code",
   "execution_count": null,
   "metadata": {},
   "outputs": [],
   "source": [
    "reorganized_final_merged_caseData.count()"
   ]
  },
  {
   "cell_type": "code",
   "execution_count": null,
   "metadata": {},
   "outputs": [],
   "source": [
    "# Convert FIPS and Population values from float64 to int64\n",
    "reorganized_final_merged_caseData.FIPS = reorganized_final_merged_caseData.FIPS.astype(np.int64)\n",
    "reorganized_final_merged_caseData.PopEst = reorganized_final_merged_caseData.PopEst.astype(np.int64)\n",
    "# reorganized_final_merged_caseData.CaseRate = reorganized_final_merged_caseData.CaseRate.astype(np.int64)\n",
    "# reorganized_final_merged_caseData.DeathRate = reorganized_final_merged_caseData.DeathRate.astype(np.int64)\n",
    "reorganized_final_merged_caseData.dtypes"
   ]
  },
  {
   "cell_type": "code",
   "execution_count": null,
   "metadata": {},
   "outputs": [],
   "source": [
    "# Format values for cleaner look\n",
    "# reorganized_final_merged_caseData[\"PopEst\"] = reorganized_final_merged_caseData[\"PopEst\"].map(\"{:,}\".format)\n",
    "# reorganized_final_merged_caseData[\"PopPerSqMi\"] = reorganized_final_merged_caseData[\"PopPerSqMi\"].map(\"{:,.2f}\".format)\n",
    "# reorganized_final_merged_caseData[\"Cases\"] = reorganized_final_merged_caseData[\"Cases\"].map(\"{:,}\".format)\n",
    "# reorganized_final_merged_caseData[\"CaseRate\"] = reorganized_final_merged_caseData[\"CaseRate\"].map(\"{:,.2f}\".format)\n",
    "# reorganized_final_merged_caseData[\"Deaths\"] = reorganized_final_merged_caseData[\"Deaths\"].map(\"{:,}\".format)\n",
    "# reorganized_final_merged_caseData[\"DeathRate\"] = reorganized_final_merged_caseData[\"DeathRate\"].map(\"{:,.2f}\".format)\n",
    "\n",
    "# reorganized_final_merged_caseData"
   ]
  },
  {
   "cell_type": "code",
   "execution_count": null,
   "metadata": {},
   "outputs": [],
   "source": []
  },
  {
   "cell_type": "code",
   "execution_count": null,
   "metadata": {},
   "outputs": [],
   "source": [
    "# Matt's code ends here for now"
   ]
  },
  {
   "cell_type": "code",
   "execution_count": null,
   "metadata": {},
   "outputs": [],
   "source": [
    "# Emerson's code starts here"
   ]
  },
  {
   "cell_type": "code",
   "execution_count": null,
   "metadata": {},
   "outputs": [],
   "source": [
    "# 4. mask-wearing survey\n",
    "maskWearingDataReadMeURL = \"https://github.com/nytimes/covid-19-data/blob/master/README.md\"\n",
    "# This is where the census data .CSV lives locally...:\n",
    "maskWearingDataFilepath = \"Resources/mask-use-by-county-exp.csv\"\n",
    "\n",
    "print(f\"{maskWearingDataFilepath} is {round(os.path.getsize(maskWearingDataFilepath)/1024/1024, 2)} MB.\\nMore info here:\\n{maskWearingDataReadMeURL}\")"
   ]
  },
  {
   "cell_type": "code",
   "execution_count": null,
   "metadata": {},
   "outputs": [],
   "source": [
    "maskWearingData = pd.read_csv(maskWearingDataFilepath)\n",
    "maskWearingData"
   ]
  },
  {
   "cell_type": "code",
   "execution_count": null,
   "metadata": {},
   "outputs": [],
   "source": [
    "maskWearingData.dtypes"
   ]
  },
  {
   "cell_type": "code",
   "execution_count": null,
   "metadata": {},
   "outputs": [],
   "source": [
    "scale = 10\n",
    "divisions = 5\n",
    "interval = scale / (divisions-1)\n",
    "print(f\"This will use the results of the NYT survey to score each county on a scale from 0 to {scale} where\")\n",
    "print(f\"never = 0\")\n",
    "print(f\"rarely = {interval}\")\n",
    "print(f\"sometimes = {interval*2}\")\n",
    "print(f\"frequently = {interval*3}\")\n",
    "print(f\"always = {interval*4}\")"
   ]
  },
  {
   "cell_type": "code",
   "execution_count": null,
   "metadata": {},
   "outputs": [],
   "source": [
    "# Each county can be represented by a mask-wearing score.\n",
    "# maskWearingData.insert(1, \"Mask Wearing Score\", 0)\n",
    "# maskWearingData\n",
    "\n",
    "# maskWearingData[\"Mask Wearing Score\"] = maskWearingData[\"RARELY\"] * interval + maskWearingData[\"RARELY\"] * interval * 2 +  maskWearingData[\"SOMETIMES\"] * interval * 3 + maskWearingData[\"FREQUENTLY\"] * interval * 4  + maskWearingData[\"ALWAYS\"] * interval * 5"
   ]
  },
  {
   "cell_type": "code",
   "execution_count": null,
   "metadata": {},
   "outputs": [],
   "source": [
    "# maskWearingScore = rarely*interval + sometimes*interval*2 + frequently*interval*3 + always*interval*4"
   ]
  },
  {
   "cell_type": "code",
   "execution_count": null,
   "metadata": {},
   "outputs": [],
   "source": [
    "# Emerson's code ends here for now"
   ]
  },
  {
   "cell_type": "code",
   "execution_count": null,
   "metadata": {},
   "outputs": [],
   "source": [
    "# Paul's code starts here"
   ]
  },
  {
   "cell_type": "code",
   "execution_count": null,
   "metadata": {},
   "outputs": [],
   "source": []
  }
 ],
 "metadata": {
  "kernelspec": {
   "display_name": "Python 3",
   "language": "python",
   "name": "python3"
  },
  "language_info": {
   "codemirror_mode": {
    "name": "ipython",
    "version": 3
   },
   "file_extension": ".py",
   "mimetype": "text/x-python",
   "name": "python",
   "nbconvert_exporter": "python",
   "pygments_lexer": "ipython3",
   "version": "3.6.10"
  }
 },
 "nbformat": 4,
 "nbformat_minor": 4
}
