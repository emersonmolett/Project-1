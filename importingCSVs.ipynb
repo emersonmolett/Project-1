{
 "cells": [
  {
   "cell_type": "code",
   "execution_count": null,
   "metadata": {},
   "outputs": [],
   "source": [
    "# dependancies\n",
    "# possibly more than needed\n",
    "import os\n",
    "from pathlib import Path\n",
    "import pandas as pd\n",
    "import numpy as np\n",
    "import matplotlib.pyplot as plt\n",
    "import scipy.stats as st\n",
    "from scipy.stats import linregress\n",
    "import chardet"
   ]
  },
  {
   "cell_type": "code",
   "execution_count": null,
   "metadata": {},
   "outputs": [],
   "source": [
    "# Make list of column/headers for Great Big Dataframe (GBDf) with empty cells - Paul\n",
    "\n",
    "# FIPS\n",
    "# (five-digit code: the first two represent state, the last three represent county in that state)\n",
    "\n",
    "# County\n",
    "# (name, e.g. Jackson County in many states, but also Orleans Parish of Louisiana, or the Aleutians East Borough of Alaska)\n",
    "\n",
    "# State (name)\n",
    "\n",
    "# Pop\n",
    "# (2019 county population estimate)\n",
    "\n",
    "# PopDens\n",
    "# (Population density; derived from county 2019 population estimate divided by county land mass in another dataframe)\n",
    "\n",
    "# MskScore\n",
    "# (Mask-wearing score derived from pct in each county who said never, rarely sometimes, frequently, always wear a mask when going out)\n",
    "\n",
    "# CaseRate\n",
    "# (cumulative COVID cases per 100,000 population by county January 21–July 14, 2020)\n",
    "\n",
    "# DeathRate\n",
    "# (cumulative COVID deaths per 100,000 population by county January 21–July 14, 2020)\n",
    "\n",
    "# Income\n",
    "# (Mean per-capita income by county; this is a bonus-round question)"
   ]
  },
  {
   "cell_type": "code",
   "execution_count": null,
   "metadata": {},
   "outputs": [],
   "source": [
    "columnNames = [\"FIPS\", \"County\", \"State\", \"Pop\", \"PopDens\", \"MskScore\", \"CaseRate\", \"DeathRate\", \"Income\"]\n",
    "GBDf = pd.DataFrame(columns = columnNames)\n",
    "# placeholderData = [\"01001\", \"Autauga\", \"Alabama\", \"55869\", \"94.0\", \"7.51\", \"0\", \"1335\", \"32\"]\n",
    "placeholderData = {\"FIPS\":\"01001\", \"County\":\"Autauga\", \"State\":\"Alabama\", \"Pop\":55869, \"PopDens\":94.0, \"MskScore\":7.51, \"CaseRate\":1335, \"DeathRate\":32, \"Income\":0}\n",
    "GBDf = GBDf.append(placeholderData, ignore_index=True)\n",
    "GBDf"
   ]
  },
  {
   "cell_type": "code",
   "execution_count": null,
   "metadata": {},
   "outputs": [],
   "source": [
    "# Aleena's code starts here"
   ]
  },
  {
   "cell_type": "code",
   "execution_count": null,
   "metadata": {},
   "outputs": [],
   "source": [
    "# 1. US Census 2010-2019\n",
    "censusDataReadMeURL = \"https://www.census.gov/data/tables/time-series/demo/popest/2010s-counties-total.html\"\n",
    "\n",
    "# This is where the census data .CSV lives locally...:\n",
    "censusDataFilepath = \"Resources/co-est2019-alldata_exp.csv\"\n",
    "\n",
    "print(f\"{censusDataFilepath} is {round(os.path.getsize(censusDataFilepath)/1024/1024, 2)} megabytes (MB).\\nMore info here:\\n{censusDataReadMeURL}\")"
   ]
  },
  {
   "cell_type": "code",
   "execution_count": null,
   "metadata": {},
   "outputs": [],
   "source": [
    "censusData = pd.read_csv(censusDataFilepath, encoding=\"iso-8859-1\")\n",
    "censusData"
   ]
  },
  {
   "cell_type": "code",
   "execution_count": null,
   "metadata": {},
   "outputs": [],
   "source": [
    "# Aleena's code ends here for now"
   ]
  },
  {
   "cell_type": "code",
   "execution_count": null,
   "metadata": {},
   "outputs": [],
   "source": [
    "# Matt's code starts here"
   ]
  },
  {
   "cell_type": "code",
   "execution_count": null,
   "metadata": {},
   "outputs": [],
   "source": [
    "# 2. COVID-19 cases\n",
    "caseDataReadMeURL = \"https://github.com/nytimes/covid-19-data/blob/master/README.md\"\n",
    "\n",
    "# This is where the .CSV lives locally...:\n",
    "caseDataFilepath = \"Resources/us-counties.csv\"\n",
    "\n",
    "print(f\"The file at {caseDataFilepath} is {round(os.path.getsize(caseDataFilepath)/1024/1024, 2)} MB.\\nMore info here:\\n{caseDataReadMeURL}\")"
   ]
  },
  {
   "cell_type": "code",
   "execution_count": null,
   "metadata": {},
   "outputs": [],
   "source": [
    "caseData = pd.read_csv(caseDataFilepath, encoding = \"iso-8859-1\")\n",
    "caseData"
   ]
  },
  {
   "cell_type": "code",
   "execution_count": null,
   "metadata": {},
   "outputs": [],
   "source": [
    "# Matt's code ends here for now"
   ]
  },
  {
   "cell_type": "code",
   "execution_count": null,
   "metadata": {},
   "outputs": [],
   "source": [
    "# Emerson's code starts here"
   ]
  },
  {
   "cell_type": "code",
   "execution_count": null,
   "metadata": {},
   "outputs": [],
   "source": [
    "# 3. mask-wearing survey\n",
    "maskWearingDataReadMeURL = \"https://github.com/nytimes/covid-19-data/blob/master/README.md\"\n",
    "# This is where the census data .CSV lives locally...:\n",
    "maskWearingDataFilepath = \"Resources/mask-use-by-county-exp.csv\"\n",
    "\n",
    "print(f\"{maskWearingDataFilepath} is {round(os.path.getsize(maskWearingDataFilepath)/1024/1024, 2)} MB.\\nMore info here:\\n{maskWearingDataReadMeURL}\")"
   ]
  },
  {
   "cell_type": "code",
   "execution_count": null,
   "metadata": {},
   "outputs": [],
   "source": [
    "maskWearingData = pd.read_csv(maskWearingDataFilepath)\n",
    "maskWearingData"
   ]
  },
  {
   "cell_type": "code",
   "execution_count": null,
   "metadata": {},
   "outputs": [],
   "source": [
    "scale = 10\n",
    "divisions = 5\n",
    "interval = scale / (divisions-1)\n",
    "print(f\"This will use the results of the NYT survey to score each county on a scale from 0 to {scale} where\")\n",
    "print(f\"never = 0\")\n",
    "print(f\"rarely = {interval}\")\n",
    "print(f\"sometimes = {interval*2}\")\n",
    "print(f\"frequently = {interval*3}\")\n",
    "print(f\"always = {interval*4}\")"
   ]
  },
  {
   "cell_type": "code",
   "execution_count": null,
   "metadata": {},
   "outputs": [],
   "source": [
    "# Each county can be represented by a mask-wearing score.\n",
    "# maskWearingData.insert(1, \"Mask Wearing Score\", 0)\n",
    "# maskWearingData\n",
    "\n",
    "# maskWearingData[\"Mask Wearing Score\"] = maskWearingData[\"RARELY\"] * interval + maskWearingData[\"RARELY\"] * interval * 2 +  maskWearingData[\"SOMETIMES\"] * interval * 3 + maskWearingData[\"FREQUENTLY\"] * interval * 4  + maskWearingData[\"ALWAYS\"] * interval * 5"
   ]
  },
  {
   "cell_type": "code",
   "execution_count": null,
   "metadata": {},
   "outputs": [],
   "source": [
    "# maskWearingScore = rarely*interval + sometimes*interval*2 + frequently*interval*3 + always*interval*4"
   ]
  },
  {
   "cell_type": "code",
   "execution_count": null,
   "metadata": {},
   "outputs": [],
   "source": [
    "# Emerson's code ends here for now"
   ]
  },
  {
   "cell_type": "code",
   "execution_count": null,
   "metadata": {},
   "outputs": [],
   "source": [
    "# Paul's code starts here"
   ]
  },
  {
   "cell_type": "code",
   "execution_count": null,
   "metadata": {},
   "outputs": [],
   "source": [
    "# 4. land mass (and thence population density)\n",
    "landMassDataReadMeURL = \"\"\n",
    "# This is where the land mass data .CSV lives locally...:\n",
    "landMassDataFilepath = \"Resources/counties_by_land_area.csv\"\n",
    "\n",
    "print(f\"{landMassDataFilepath} is {round(os.path.getsize(landMassDataFilepath)/1024/1024, 2)} MB.\\nMore info here:\\n{landMassDataReadMeURL}\")"
   ]
  },
  {
   "cell_type": "code",
   "execution_count": null,
   "metadata": {},
   "outputs": [],
   "source": [
    "landMassData = pd.read_csv(landMassDataFilepath)\n",
    "landMassData"
   ]
  },
  {
   "cell_type": "code",
   "execution_count": null,
   "metadata": {},
   "outputs": [],
   "source": [
    "# counties_by_land_area.csv"
   ]
  }
 ],
 "metadata": {
  "kernelspec": {
   "display_name": "Python 3",
   "language": "python",
   "name": "python3"
  },
  "language_info": {
   "codemirror_mode": {
    "name": "ipython",
    "version": 3
   },
   "file_extension": ".py",
   "mimetype": "text/x-python",
   "name": "python",
   "nbconvert_exporter": "python",
   "pygments_lexer": "ipython3",
   "version": "3.6.10"
  }
 },
 "nbformat": 4,
 "nbformat_minor": 4
}
