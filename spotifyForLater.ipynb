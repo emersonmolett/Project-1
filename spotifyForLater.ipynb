{
 "cells": [
  {
   "cell_type": "code",
   "execution_count": null,
   "metadata": {},
   "outputs": [],
   "source": [
    "# Test\n",
    "# This is a test to see what data's available through the Spotify API\n",
    "# dependancies\n",
    "pip install spotipy"
   ]
  },
  {
   "cell_type": "code",
   "execution_count": null,
   "metadata": {},
   "outputs": [],
   "source": [
    "sp = spotipy.Spotify(auth_manager=SpotifyOAuth(client_id=\"YOUR_APP_CLIENT_ID\",\n",
    "                                               client_secret=\"YOUR_APP_CLIENT_SECRET\",\n",
    "                                               redirect_uri=\"YOUR_APP_REDIRECT_URI\",\n",
    "                                               scope=\"user-library-read\"))\n",
    "\n",
    "results = sp.current_user_saved_tracks()\n",
    "for idx, item in enumerate(results['items']):\n",
    "    track = item['track']\n",
    "    print(idx, track['artists'][0]['name'], \" – \", track['name'])\n",
    "\n",
    "app.get('/login', function(req, res) {\n",
    "var scopes = 'user-read-private user-read-email';\n",
    "res.redirect('https://accounts.spotify.com/authorize' +\n",
    "  '?response_type=code' +\n",
    "  '&client_id=' + my_client_id +\n",
    "  (scopes ? '&scope=' + encodeURIComponent(scopes) : '') +\n",
    "  '&redirect_uri=' + encodeURIComponent(redirect_uri));\n",
    "});\n",
    "\n",
    "https://accounts.spotify.com/authorize?response_type=code&client_id=1283879535&scope=[scopes]&redirect_uri=[redirectURL]\n"
   ]
  }
 ],
 "metadata": {
  "kernelspec": {
   "display_name": "Python 3",
   "language": "python",
   "name": "python3"
  },
  "language_info": {
   "codemirror_mode": {
    "name": "ipython",
    "version": 3
   },
   "file_extension": ".py",
   "mimetype": "text/x-python",
   "name": "python",
   "nbconvert_exporter": "python",
   "pygments_lexer": "ipython3",
   "version": "3.6.10"
  }
 },
 "nbformat": 4,
 "nbformat_minor": 4
}
